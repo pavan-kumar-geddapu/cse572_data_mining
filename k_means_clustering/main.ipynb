{
 "cells": [
  {
   "cell_type": "code",
   "execution_count": 59,
   "metadata": {},
   "outputs": [],
   "source": [
    "import numpy as np\n",
    "from scipy.stats import mode\n",
    "import time\n",
    "\n",
    "import warnings\n",
    "warnings.filterwarnings('ignore')"
   ]
  },
  {
   "cell_type": "code",
   "execution_count": 60,
   "metadata": {},
   "outputs": [],
   "source": [
    "X = np.genfromtxt(\"data/data.csv\", delimiter=',')\n",
    "y = np.genfromtxt(\"data/label.csv\", delimiter=',')"
   ]
  },
  {
   "cell_type": "code",
   "execution_count": 61,
   "metadata": {},
   "outputs": [],
   "source": [
    "np.random.seed(42)"
   ]
  },
  {
   "cell_type": "code",
   "execution_count": 62,
   "metadata": {},
   "outputs": [],
   "source": [
    "def euclidean_distance(x1, x2):\n",
    "    euclidean_distance = np.sqrt(np.sum((x1 - x2) ** 2))\n",
    "    return euclidean_distance\n",
    "\n",
    "def cosine_distance(x1, x2):\n",
    "    dot_product = np.dot(x1, x2)\n",
    "    norm_x1 = np.linalg.norm(x1)\n",
    "    norm_x2 = np.linalg.norm(x2)\n",
    "    cosine_similarity = dot_product / (norm_x1 * norm_x2)\n",
    "    cosine_distance = 1 - cosine_similarity\n",
    "    return cosine_distance\n",
    "\n",
    "def jaccard_distance(x1, x2):\n",
    "    jaccard_similarity = np.sum(np.minimum(x1, x2)) / np.sum(np.maximum(x1, x2))\n",
    "    jaccard_distance = 1 - jaccard_similarity\n",
    "    return jaccard_distance"
   ]
  },
  {
   "cell_type": "code",
   "execution_count": 63,
   "metadata": {},
   "outputs": [],
   "source": [
    "def assign_majority_labels(labels, y, k):\n",
    "    majority_labels = np.zeros(10000)\n",
    "    for cluster in range(k):\n",
    "        cluster_indices = np.where(labels == cluster)\n",
    "        cluster_actual_labels = y[cluster_indices]\n",
    "        majority_label = mode(cluster_actual_labels)[0][0]\n",
    "        majority_labels[cluster_indices] = majority_label\n",
    "    return majority_labels\n",
    "\n",
    "def calculate_accuracy(labels, y, k=10):\n",
    "    pred_labels = assign_majority_labels(labels, y, 10)\n",
    "    accuracy = np.sum(pred_labels == y) / len(y)\n",
    "    return accuracy \n",
    "\n",
    "def calculate_sse(X, labels, centroids):\n",
    "    sse = np.sum(np.sum((X[labels == i] - centroids[i])**2) for i in range(len(centroids)))\n",
    "    return sse"
   ]
  },
  {
   "cell_type": "code",
   "execution_count": 64,
   "metadata": {},
   "outputs": [],
   "source": [
    "def k_means_plusplus_centroids_init(X, distance_function=euclidean_distance, k=10):\n",
    "    centroids = []\n",
    "    centroids.append(X[np.random.choice(len(X))])\n",
    "    for _ in range(1, k):\n",
    "        distances = np.array([min(distance_function(x, c)**2 for c in centroids) for x in X])\n",
    "        probabilities = distances / np.sum(distances)\n",
    "        new_centroid_index = np.random.choice(len(X), p=probabilities)\n",
    "        centroids.append(X[new_centroid_index])\n",
    "    return np.array(centroids)\n",
    "\n",
    "def k_means_centroids_init(X, k=10):\n",
    "    centroids = X[np.random.choice(range(len(X)), k, replace=False)]\n",
    "    return centroids\n",
    "\n",
    "def k_means(X, centroids, distance_function=euclidean_distance, stop_criteria=\"max_iters_complete\", k=10, max_iters=200):\n",
    "    labels = None\n",
    "    itr = 0\n",
    "    prev_sse, cur_sse = float('inf'), float('inf')\n",
    "    while itr < max_iters:\n",
    "        labels = np.argmin(np.array([[distance_function(x, c) for c in centroids] for x in X]), axis=1)\n",
    "        new_centroids = np.array([X[labels == i].mean(axis=0) if np.sum(labels == i) > 0 else centroids[i] for i in range(k)])\n",
    "        prev_sse = cur_sse\n",
    "        cur_sse = calculate_sse(X, labels, new_centroids)\n",
    "        itr += 1\n",
    "        if stop_criteria == \"check_centroids\":\n",
    "            if np.array_equal(centroids, new_centroids):\n",
    "                break\n",
    "        elif stop_criteria == \"sse_increase\":\n",
    "            if prev_sse <= cur_sse:\n",
    "                break\n",
    "        centroids = new_centroids\n",
    "    return labels, centroids, itr"
   ]
  },
  {
   "cell_type": "code",
   "execution_count": 65,
   "metadata": {},
   "outputs": [],
   "source": [
    "distance_function_list = [euclidean_distance, cosine_distance, jaccard_distance]\n",
    "stop_criteria_list = [\"check_centroids\", \"sse_increase\", \"max_iters_complete\"]"
   ]
  },
  {
   "cell_type": "code",
   "execution_count": 66,
   "metadata": {},
   "outputs": [
    {
     "name": "stdout",
     "output_type": "stream",
     "text": [
      "(euclidean_distance, check_centroids) - SSE: 25433212639.24, Accuracy: 60.44, iterations: 81, time_taken_in_seconds: 56.50\n",
      "(euclidean_distance, sse_increase) - SSE: 25433212639.24, Accuracy: 60.44, iterations: 81, time_taken_in_seconds: 56.20\n",
      "(euclidean_distance, max_iters_complete) - SSE: 25433212639.24, Accuracy: 60.44, iterations: 200, time_taken_in_seconds: 139.57\n",
      "(cosine_distance, check_centroids) - SSE: 25419566794.00, Accuracy: 61.33, iterations: 71, time_taken_in_seconds: 53.31\n",
      "(cosine_distance, sse_increase) - SSE: 25440247462.49, Accuracy: 61.16, iterations: 16, time_taken_in_seconds: 11.90\n",
      "(cosine_distance, max_iters_complete) - SSE: 25419566794.00, Accuracy: 61.33, iterations: 200, time_taken_in_seconds: 148.57\n",
      "(jaccard_distance, check_centroids) - SSE: 25417331725.24, Accuracy: 60.33, iterations: 80, time_taken_in_seconds: 77.25\n",
      "(jaccard_distance, sse_increase) - SSE: 25487498983.53, Accuracy: 60.89, iterations: 18, time_taken_in_seconds: 17.55\n",
      "(jaccard_distance, max_iters_complete) - SSE: 25417331725.24, Accuracy: 60.33, iterations: 200, time_taken_in_seconds: 194.99\n"
     ]
    }
   ],
   "source": [
    "# Question 1, 2, 3, 4\n",
    "\n",
    "for distance_function in distance_function_list:\n",
    "    init_centroids = k_means_plusplus_centroids_init(X, distance_function)\n",
    "    for stop_criteria in stop_criteria_list:\n",
    "        start_time = time.time()\n",
    "        labels, centroids, itr = k_means(X, init_centroids, distance_function, stop_criteria)\n",
    "        end_time = time.time()\n",
    "        sse = calculate_sse(X, labels, centroids)\n",
    "        accuracy = calculate_accuracy(labels, y) * 100\n",
    "        elapsed_time = end_time - start_time\n",
    "        print(\"({}, {}) - SSE: {:.2f}, Accuracy: {:.2f}, iterations: {}, time_taken_in_seconds: {:.2f}\".format(str(distance_function).split()[1], stop_criteria, sse, accuracy, itr, elapsed_time))"
   ]
  },
  {
   "cell_type": "code",
   "execution_count": 67,
   "metadata": {},
   "outputs": [
    {
     "name": "stdout",
     "output_type": "stream",
     "text": [
      "SSE: 25320432712.92, Accuracy: 59.48\n"
     ]
    }
   ],
   "source": [
    "# Testing with sklearn library\n",
    "from sklearn.cluster import KMeans\n",
    "\n",
    "kmeans = KMeans(n_clusters=10, random_state=42)\n",
    "kmeans.fit(X)\n",
    "labels = kmeans.labels_\n",
    "centroids = kmeans.cluster_centers_\n",
    "sse = calculate_sse(X, labels, centroids)\n",
    "accuracy = calculate_accuracy(labels, y)\n",
    "print(\"SSE: {:.2f}, Accuracy: {:.2f}\".format(sse, accuracy * 100))"
   ]
  }
 ],
 "metadata": {
  "kernelspec": {
   "display_name": "base",
   "language": "python",
   "name": "python3"
  },
  "language_info": {
   "codemirror_mode": {
    "name": "ipython",
    "version": 3
   },
   "file_extension": ".py",
   "mimetype": "text/x-python",
   "name": "python",
   "nbconvert_exporter": "python",
   "pygments_lexer": "ipython3",
   "version": "3.9.13"
  }
 },
 "nbformat": 4,
 "nbformat_minor": 2
}
